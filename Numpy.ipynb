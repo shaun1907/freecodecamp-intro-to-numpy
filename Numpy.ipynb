{
 "cells": [
  {
   "cell_type": "markdown",
   "metadata": {},
   "source": [
    "Create a function named calculate() in mean_var_std.py that uses Numpy to output the mean, variance, standard deviation, max, min, and sum of the rows, columns, and elements in a 3 x 3 matrix.\n",
    "\n",
    "The input of the function should be a list containing 9 digits. The function should convert the list into a 3 x 3 Numpy array, and then return a dictionary containing the mean, variance, standard deviation, max, min, and sum along both axes and for the flattened matrix.\n",
    "\n",
    "The returned dictionary should follow this format:\n",
    "\n",
    "{\n",
    "  'mean': [axis1, axis2, flattened],\n",
    "  'variance': [axis1, axis2, flattened],\n",
    "  'standard deviation': [axis1, axis2, flattened],\n",
    "  'max': [axis1, axis2, flattened],\n",
    "  'min': [axis1, axis2, flattened],\n",
    "  'sum': [axis1, axis2, flattened]\n",
    "}"
   ]
  },
  {
   "cell_type": "code",
   "execution_count": 39,
   "metadata": {},
   "outputs": [],
   "source": [
    "\n",
    "import numpy as np\n",
    "inputA = [1,2,3,4,5,6,7,8,9]\n"
   ]
  },
  {
   "cell_type": "code",
   "execution_count": 40,
   "metadata": {},
   "outputs": [],
   "source": [
    "from matplotlib.cbook import flatten\n",
    "\n",
    "\n",
    "def calculate(a):\n",
    "    converted_list = np.reshape(a, (3,3))\n",
    "    myDict = {\n",
    "        'mean': [np.mean(converted_list, axis=0), np.mean(converted_list, axis=1), np.mean(converted_list.flatten())],\n",
    "        'variance': [np.var(converted_list, axis=0), np.var(converted_list, axis=1), np.var(converted_list.flatten())],\n",
    "        'standard deviation': [np.std(converted_list, axis=0), np.std(converted_list, axis=1), np.std(converted_list.flatten())],\n",
    "        'max': [np.max(converted_list, axis=0), np.max(converted_list, axis=1), np.max(converted_list.flatten())],\n",
    "        'min': [np.min(converted_list, axis=0), np.min(converted_list, axis=1), np.min(converted_list.flatten())],\n",
    "        'sum': [np.sum(converted_list, axis=0), np.sum(converted_list, axis=1), np.sum(converted_list.flatten())]\n",
    "    }\n",
    "    return myDict"
   ]
  },
  {
   "cell_type": "code",
   "execution_count": 41,
   "metadata": {},
   "outputs": [
    {
     "data": {
      "text/plain": [
       "{'mean': [array([4., 5., 6.]), array([2., 5., 8.]), 5.0],\n",
       " 'variance': [array([6., 6., 6.]),\n",
       "  array([0.66666667, 0.66666667, 0.66666667]),\n",
       "  6.666666666666667],\n",
       " 'standard deviation': [array([2.44948974, 2.44948974, 2.44948974]),\n",
       "  array([0.81649658, 0.81649658, 0.81649658]),\n",
       "  2.581988897471611],\n",
       " 'max': [array([7, 8, 9]), array([3, 6, 9]), 9],\n",
       " 'min': [array([1, 2, 3]), array([1, 4, 7]), 1],\n",
       " 'sum': [array([12, 15, 18]), array([ 6, 15, 24]), 45]}"
      ]
     },
     "execution_count": 41,
     "metadata": {},
     "output_type": "execute_result"
    }
   ],
   "source": [
    "\n",
    "\n",
    "\n",
    "\n",
    "calculate(inputA)"
   ]
  },
  {
   "cell_type": "code",
   "execution_count": null,
   "metadata": {},
   "outputs": [],
   "source": []
  }
 ],
 "metadata": {
  "kernelspec": {
   "display_name": "Python 3.10.6 64-bit (windows store)",
   "language": "python",
   "name": "python3"
  },
  "language_info": {
   "codemirror_mode": {
    "name": "ipython",
    "version": 3
   },
   "file_extension": ".py",
   "mimetype": "text/x-python",
   "name": "python",
   "nbconvert_exporter": "python",
   "pygments_lexer": "ipython3",
   "version": "3.10.6"
  },
  "orig_nbformat": 4,
  "vscode": {
   "interpreter": {
    "hash": "e512212120320149b780edf3747de0aeb2f70a10b1a5a94b6070f6e26b15f6f2"
   }
  }
 },
 "nbformat": 4,
 "nbformat_minor": 2
}
